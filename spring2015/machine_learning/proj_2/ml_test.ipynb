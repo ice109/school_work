{
 "metadata": {
  "name": "ml_test"
 },
 "nbformat": 3,
 "nbformat_minor": 0,
 "worksheets": [
  {
   "cells": [
    {
     "cell_type": "code",
     "collapsed": false,
     "input": "import numpy as np\nimport matplotlib.pyplot as plt\nfrom scipy import stats\nfrom sklearn import linear_model, cross_validation\nimport statsmodels.api as sm",
     "language": "python",
     "metadata": {},
     "outputs": [
      {
       "ename": "ImportError",
       "evalue": "No module named statsmodels.api",
       "output_type": "pyerr",
       "traceback": [
        "\u001b[0;31m---------------------------------------------------------------------------\u001b[0m\n\u001b[0;31mImportError\u001b[0m                               Traceback (most recent call last)",
        "\u001b[0;32m<ipython-input-1-1ccea6126400>\u001b[0m in \u001b[0;36m<module>\u001b[0;34m()\u001b[0m\n\u001b[1;32m      3\u001b[0m \u001b[0;32mfrom\u001b[0m \u001b[0mscipy\u001b[0m \u001b[0;32mimport\u001b[0m \u001b[0mstats\u001b[0m\u001b[0;34m\u001b[0m\u001b[0m\n\u001b[1;32m      4\u001b[0m \u001b[0;32mfrom\u001b[0m \u001b[0msklearn\u001b[0m \u001b[0;32mimport\u001b[0m \u001b[0mlinear_model\u001b[0m\u001b[0;34m,\u001b[0m \u001b[0mcross_validation\u001b[0m\u001b[0;34m\u001b[0m\u001b[0m\n\u001b[0;32m----> 5\u001b[0;31m \u001b[0;32mimport\u001b[0m \u001b[0mstatsmodels\u001b[0m\u001b[0;34m.\u001b[0m\u001b[0mapi\u001b[0m \u001b[0;32mas\u001b[0m \u001b[0msm\u001b[0m\u001b[0;34m\u001b[0m\u001b[0m\n\u001b[0m",
        "\u001b[0;31mImportError\u001b[0m: No module named statsmodels.api"
       ]
      }
     ],
     "prompt_number": 1
    },
    {
     "cell_type": "code",
     "collapsed": false,
     "input": "cd ~/Desktop/school_work/spring2015/machine_learning/proj_2/data/",
     "language": "python",
     "metadata": {},
     "outputs": [
      {
       "output_type": "stream",
       "stream": "stdout",
       "text": "/home/maksim/Desktop/school_work/spring2015/machine_learning/proj_2/data\n"
      }
     ],
     "prompt_number": 2
    },
    {
     "cell_type": "heading",
     "level": 1,
     "metadata": {},
     "source": "Load data"
    },
    {
     "cell_type": "code",
     "collapsed": false,
     "input": "### regression\nyacht_data = np.loadtxt('yacht_hydrodynamics.data')\nparkinsons_tel_data = np.loadtxt('parkinsons_updrs.data',delimiter=',')\n\n# stupid fuckin char columns\nunique_m = {'apr':1.0, 'aug':2.0, 'dec':3.0, 'feb':4.0, 'jan':5.0, 'jul':6.0, 'jun':7.0, 'mar':8.0, 'may':9.0, 'nov':10.0, 'oct':11.0, 'sep':12.0}\nunique_d = {'fri':1.0, 'mon':2.0, 'sat':3.0, 'sun':4.0, 'thu':5.0, 'tue':6.0, 'wed':7.0}\nforestfires_data = np.genfromtxt('forestfires.data',delimiter=',', converters={2: lambda x: unique_m[x], 3: lambda x: unique_d[x]})\n\n### classification\nkwargs = dict(delimiter=',',missing_values='?',filling_values=0)\nbreast_cancer_data = np.genfromtxt('breast-cancer-wisconsin.data',**kwargs)\noptical_digits_data = np.loadtxt('optic_digits.data',delimiter=',')\nbank_note_data = np.genfromtxt('banknote.data',delimiter=',')\nclimate_data = np.loadtxt('climate.data')\n\n# stupid fuckin char columns\nunique_ec = {'cp':1.0, 'im':2.0, 'imL':3.0, 'imS':4.0, 'imU':5.0, 'om':6.0, 'omL':7.0, 'pp':8.0}\nfmts = zip([str(i) for i in range(0,13)],['f8',]*9)\necoli_data = np.genfromtxt('ecoli.data',usecols=(1,2,3,4,5,6,7,8), converters={8: lambda x: unique_ec[x]})\n",
     "language": "python",
     "metadata": {},
     "outputs": [],
     "prompt_number": 34
    },
    {
     "cell_type": "heading",
     "level": 1,
     "metadata": {},
     "source": "Cross-validation split"
    },
    {
     "cell_type": "code",
     "collapsed": false,
     "input": "### regression ###\nyacht_train_feat, yacht_test_feat, yacht_train_target, yacht_test_target = cross_validation.train_test_split(\n    yacht_data[:,:-1], yacht_data[:,-1], test_size=0.8, random_state=0)\n#what the hell is the response herejQuery202020918934624549046_1428111902664?\npark_train_feat, park_test_feat, park_train_target, park_test_target = cross_validation.train_test_split(\n    parkinsons_tel_data[1:,:-1], parkinsons_tel_data[1:,-1], test_size=0.8, random_state=0)\n#response is biased to 0 so maybe take log or last entry?\nforest_train_feat, forest_test_feat, forest_train_target, forest_test_target = cross_validation.train_test_split(\n    forestfires_data[:,:-1], forestfires_data[:,-1], test_size=0.8, random_state=0)\n\n### classification ###\nbreast_train_feat, breast_test_feat, breast_train_target, breast_test_target = cross_validation.train_test_split(\n    breast_cancer_data[:,:-1], breast_cancer_data[:,-1], test_size=0.8, random_state=0)\noptical_train_feat, optical_test_feat, optical_train_target, optical_test_target = cross_validation.train_test_split(\n    optical_digits_data[:,:-1], optical_digits_data[:,-1], test_size=0.8, random_state=0)\nbank_train_feat, bank_test_feat, bank_train_target, bank_test_target = cross_validation.train_test_split(\n    bank_note_data[:,:-1], bank_note_data[:,-1], test_size=0.8, random_state=0)\nclimate_train_feat, climate_test_feat, climate_train_target, climate_test_target = cross_validation.train_test_split(\n    climate_data[:,:-1], climate_data[:,-1], test_size=0.8, random_state=0)\necoli_train_feat, ecoli_test_feat, ecoli_train_target, ecoli_test_target = cross_validation.train_test_split(\n    ecoli_data[:,:-1], ecoli_data[:,-1], test_size=0.8, random_state=0)\n",
     "language": "python",
     "metadata": {},
     "outputs": [],
     "prompt_number": 44
    },
    {
     "cell_type": "heading",
     "level": 1,
     "metadata": {},
     "source": "Linear Regression"
    },
    {
     "cell_type": "heading",
     "level": 3,
     "metadata": {},
     "source": "Yacht Hydrodynamics"
    },
    {
     "cell_type": "code",
     "collapsed": false,
     "input": "regr = linear_model.LinearRegression()\nregr.fit(yacht_train_feat,yacht_train_target)\nprint \"coefficients\", regr.coef_\nprint \"score\",regr.score(yacht_test_feat,yacht_test_target)",
     "language": "python",
     "metadata": {},
     "outputs": [
      {
       "output_type": "stream",
       "stream": "stdout",
       "text": "coefficients [   1.37459406   59.90571508   23.94685755  -13.3007334   -33.23226956\n  123.8801804 ]\nscore 0.576441846145\n"
      }
     ],
     "prompt_number": 54
    },
    {
     "cell_type": "heading",
     "level": 3,
     "metadata": {},
     "source": "Parkinson's Telephone"
    },
    {
     "cell_type": "code",
     "collapsed": false,
     "input": "regr = linear_model.LinearRegression()\nregr.fit(park_train_feat,park_train_target)\nprint \"coefficients\", regr.coef_\nprint \"score\",regr.score(park_test_feat,park_test_target)",
     "language": "python",
     "metadata": {},
     "outputs": [
      {
       "output_type": "stream",
       "stream": "stdout",
       "text": "coefficients [  4.15666051e-05   2.56641661e-04   1.66686407e-03   1.16123037e-05\n   1.64940221e-03  -8.62778403e-04   2.12325152e+01   7.22910992e+02\n  -1.22644295e+02   2.58531263e+00   3.21383113e+01  -1.33525407e+00\n   2.99337893e-01  -6.98700407e+02  -1.70400219e+00   7.64778764e-01\n   2.32424983e+02  -5.64770180e-01  -7.60627169e-03   3.29227007e-02\n   1.13916528e-01]\nscore 0.754190560345\n"
      }
     ],
     "prompt_number": 55
    },
    {
     "cell_type": "heading",
     "level": 3,
     "metadata": {},
     "source": "Forest Fires"
    },
    {
     "cell_type": "code",
     "collapsed": false,
     "input": "regr = linear_model.LinearRegression()\nregr.fit(forest_train_feat,forest_train_target)\nprint \"coefficients\", regr.coef_\nprint \"score\",regr.score(forest_test_feat,forest_test_target)",
     "language": "python",
     "metadata": {},
     "outputs": [
      {
       "output_type": "stream",
       "stream": "stdout",
       "text": "coefficients [  2.62769017e+00   1.14313241e+00  -2.23673756e-01   6.26669782e-01\n   4.50169622e-01  -3.35814588e-02  -1.67581351e-02  -1.43557147e+00\n   2.12691622e+00   2.31241059e-01   3.18609200e+00  -2.24443648e+01]\nscore -0.0185053492113\n"
      }
     ],
     "prompt_number": 56
    },
    {
     "cell_type": "heading",
     "level": 1,
     "metadata": {},
     "source": "Bayesian Regression"
    },
    {
     "cell_type": "heading",
     "level": 3,
     "metadata": {},
     "source": "Yacht Hydrodynamics"
    },
    {
     "cell_type": "code",
     "collapsed": false,
     "input": "bls = linear_model.BayesianRidge(compute_score=True)\nbls.fit(yacht_train_feat,yacht_train_target)\nprint \"coefficients\", bls.coef_\nprint \"score\",bls.score(yacht_test_feat,yacht_test_target)",
     "language": "python",
     "metadata": {},
     "outputs": [
      {
       "output_type": "stream",
       "stream": "stdout",
       "text": "coefficients [  1.54006401e-03  -6.15970583e-05   2.95637406e-04  -1.29617088e-03\n   5.46114321e-04   1.17615368e-03]\nscore -0.000665964534197\n"
      }
     ],
     "prompt_number": 57
    },
    {
     "cell_type": "heading",
     "level": 3,
     "metadata": {},
     "source": "Parkinson's Telephone"
    },
    {
     "cell_type": "code",
     "collapsed": false,
     "input": "bls = linear_model.BayesianRidge(compute_score=True)\nbls.fit(park_train_feat,park_train_target)\nprint \"coefficients\", bls.coef_\nprint \"score\",bls.score(park_test_feat,park_test_target)",
     "language": "python",
     "metadata": {},
     "outputs": [
      {
       "output_type": "stream",
       "stream": "stdout",
       "text": "coefficients [ -3.31450465e-05   2.43932577e-04  -7.18004975e-03   1.95959143e-05\n   1.21717452e-03  -6.17962273e-04   2.22738368e+01   1.53973924e+00\n  -1.86115100e+00   1.29569124e+00  -5.54039256e+00  -9.57766390e-01\n   2.95757742e-01  -2.86402806e-01  -1.84760391e+00   8.78043301e-01\n  -5.84553399e-01  -6.09064269e-01  -8.08045449e-03   6.22705765e-02\n   1.41131015e-01]\nscore 0.708777662509\n"
      }
     ],
     "prompt_number": 59
    },
    {
     "cell_type": "heading",
     "level": 3,
     "metadata": {},
     "source": "Forest Fires"
    },
    {
     "cell_type": "code",
     "collapsed": false,
     "input": "bls = linear_model.BayesianRidge(compute_score=True)\nbls.fit(forest_train_feat,forest_train_target)\nprint \"coefficients\", bls.coef_\nprint \"score\",bls.score(forest_test_feat,forest_test_target)",
     "language": "python",
     "metadata": {},
     "outputs": [
      {
       "output_type": "stream",
       "stream": "stdout",
       "text": "coefficients [  1.13165054e-04   3.94603479e-05  -5.23484504e-05  -3.21117900e-07\n  -2.23692532e-05   4.76964451e-06  -3.79002098e-03  -3.31505814e-05\n   1.38410726e-04  -5.49910490e-05   1.61898928e-05  -1.12046256e-06]\nscore -0.00469464194026\n"
      }
     ],
     "prompt_number": 60
    },
    {
     "cell_type": "heading",
     "level": 1,
     "metadata": {},
     "source": "Ridge Regression"
    },
    {
     "cell_type": "heading",
     "level": 3,
     "metadata": {},
     "source": "Yacht Hydrodynamics"
    },
    {
     "cell_type": "code",
     "collapsed": false,
     "input": "rdg = linear_model.RidgeCV()\nrdg.fit(yacht_train_feat,yacht_train_target)\nprint \"coefficients\", rdg.coef_\nprint \"score\",rdg.score(yacht_test_feat,yacht_test_target)",
     "language": "python",
     "metadata": {},
     "outputs": [
      {
       "output_type": "stream",
       "stream": "stdout",
       "text": "coefficients [   1.18944185   -1.58698227    4.82198619   -5.93195035  -10.92085527\n  105.6201498 ]\nscore 0.58659780973\n"
      }
     ],
     "prompt_number": 66
    },
    {
     "cell_type": "heading",
     "level": 3,
     "metadata": {},
     "source": "Parkinson's Telephone"
    },
    {
     "cell_type": "code",
     "collapsed": false,
     "input": "rdg = linear_model.RidgeCV()\nrdg.fit(park_train_feat,park_train_target)\nprint \"coefficients\", rdg.coef_\nprint \"score\",rdg.score(park_test_feat,park_test_target)",
     "language": "python",
     "metadata": {},
     "outputs": [
      {
       "output_type": "stream",
       "stream": "stdout",
       "text": "coefficients [  3.41692310e-05   6.74879463e-04  -1.66961070e-02   3.32077540e-05\n   2.53876841e-03  -1.38421318e-03   7.17489520e-01   5.52582640e-03\n   3.44824325e-01   3.33810623e-01   1.03469933e+00  -2.75418397e-01\n   1.71991753e-01  -1.70449161e-01  -3.22200962e-01  -3.77843933e-02\n  -5.11108279e-01   5.65700576e-02  -8.71964649e-03   1.24101290e-01\n   3.09167604e-01]\nscore 0.694977740317\n"
      }
     ],
     "prompt_number": 65
    },
    {
     "cell_type": "heading",
     "level": 3,
     "metadata": {},
     "source": "Forest Fires"
    },
    {
     "cell_type": "code",
     "collapsed": false,
     "input": "rdg = linear_model.RidgeCV()\nrdg.fit(forest_train_feat,forest_train_target)\nprint \"coefficients\", rdg.coef_\nprint \"score\",rdg.score(forest_test_feat,forest_test_target)",
     "language": "python",
     "metadata": {},
     "outputs": [
      {
       "output_type": "stream",
       "stream": "stdout",
       "text": "coefficients [ 2.55075799  1.02925435 -0.15697589  0.70725003  0.38232171 -0.02291705\n -0.01936677 -1.29263603  1.90262488  0.1600544   2.57529411 -4.1903259 ]\nscore -0.00884765482445\n"
      }
     ],
     "prompt_number": 67
    },
    {
     "cell_type": "heading",
     "level": 1,
     "metadata": {},
     "source": "Lasso Regression"
    },
    {
     "cell_type": "heading",
     "level": 3,
     "metadata": {},
     "source": "Yacht Hydrodynamics"
    },
    {
     "cell_type": "code",
     "collapsed": false,
     "input": "regr = linear_model.Lasso()\nregr.fit(yacht_train_feat,yacht_train_target)\nprint \"coefficients\", regr.coef_\nprint \"score\",regr.score(yacht_test_feat,yacht_test_target)",
     "language": "python",
     "metadata": {},
     "outputs": [
      {
       "output_type": "stream",
       "stream": "stdout",
       "text": "coefficients [  0.38472602  -0.           0.          -0.89183049   0.          23.52332256]\nscore 0.222372346766\n"
      }
     ],
     "prompt_number": 69
    },
    {
     "cell_type": "heading",
     "level": 3,
     "metadata": {},
     "source": "Parkinson's Telephone"
    },
    {
     "cell_type": "code",
     "collapsed": false,
     "input": "regr = linear_model.Lasso()\nregr.fit(park_train_feat,park_train_target)\nprint \"coefficients\", regr.coef_\nprint \"score\",regr.score(park_test_feat,park_test_target)",
     "language": "python",
     "metadata": {},
     "outputs": [
      {
       "output_type": "stream",
       "stream": "stdout",
       "text": "coefficients [ 0.  0. -0.  0.  0.  0.  0.  0.  0.  0.  0.  0.  0.  0.  0.  0.  0.  0.\n -0.  0.  0.]\nscore -0.000254920395459\n"
      }
     ],
     "prompt_number": 70
    },
    {
     "cell_type": "heading",
     "level": 3,
     "metadata": {},
     "source": "Forest Fires"
    },
    {
     "cell_type": "code",
     "collapsed": false,
     "input": "regr = linear_model.Lasso()\nregr.fit(forest_train_feat,forest_train_target)\nprint \"coefficients\", regr.coef_\nprint \"score\",regr.score(forest_test_feat,forest_test_target)",
     "language": "python",
     "metadata": {},
     "outputs": [
      {
       "output_type": "stream",
       "stream": "stdout",
       "text": "coefficients [ 2.51650155  0.48753072 -0.05533902  0.34044736  0.         -0.01012053\n -0.02112769 -0.89092857  1.73010745  0.11635921  1.98808573 -0.        ]\nscore -0.00586988539035\n"
      }
     ],
     "prompt_number": 71
    }
   ],
   "metadata": {}
  }
 ]
}