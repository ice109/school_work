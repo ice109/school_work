{
 "metadata": {
  "name": "ml_test"
 },
 "nbformat": 3,
 "nbformat_minor": 0,
 "worksheets": [
  {
   "cells": [
    {
     "cell_type": "code",
     "collapsed": false,
     "input": "import numpy as np\nimport matplotlib.pyplot as plt\nfrom scipy import stats\nfrom sklearn import linear_model",
     "language": "python",
     "metadata": {},
     "outputs": [],
     "prompt_number": 97
    },
    {
     "cell_type": "code",
     "collapsed": false,
     "input": "data = np.loadtxt('data/yacht_hydrodynamics.data')\ntrain_feat, test_feat, train_target, test_target = cross_validation.train_test_split(\n    data[:,:-1], data[:,-1], test_size=0.81, random_state=0)",
     "language": "python",
     "metadata": {},
     "outputs": [],
     "prompt_number": 68
    },
    {
     "cell_type": "code",
     "collapsed": false,
     "input": "regr = linear_model.LinearRegression()\nregr.fit(train_feat,train_target)",
     "language": "python",
     "metadata": {},
     "outputs": [
      {
       "metadata": {},
       "output_type": "pyout",
       "prompt_number": 69,
       "text": "LinearRegression(copy_X=True, fit_intercept=True, normalize=False)"
      }
     ],
     "prompt_number": 69
    },
    {
     "cell_type": "code",
     "collapsed": false,
     "input": "regr.coef_",
     "language": "python",
     "metadata": {},
     "outputs": [
      {
       "metadata": {},
       "output_type": "pyout",
       "prompt_number": 70,
       "text": "array([   1.29713236,   54.59046013,   20.92226694,  -11.6771767 ,\n        -29.21019669,  122.72947151])"
      }
     ],
     "prompt_number": 70
    },
    {
     "cell_type": "code",
     "collapsed": false,
     "input": "regr.score(test_feat,test_target)",
     "language": "python",
     "metadata": {},
     "outputs": [
      {
       "metadata": {},
       "output_type": "pyout",
       "prompt_number": 77,
       "text": "0.59552044256423775"
      }
     ],
     "prompt_number": 77
    },
    {
     "cell_type": "code",
     "collapsed": false,
     "input": "bls = linear_model.BayesianRidge(compute_score=True)\nbls.fit(train_feat,train_target)",
     "language": "python",
     "metadata": {},
     "outputs": [
      {
       "metadata": {},
       "output_type": "pyout",
       "prompt_number": 81,
       "text": "BayesianRidge(alpha_1=1e-06, alpha_2=1e-06, compute_score=True, copy_X=True,\n       fit_intercept=True, lambda_1=1e-06, lambda_2=1e-06, n_iter=300,\n       normalize=False, tol=0.001, verbose=False)"
      }
     ],
     "prompt_number": 81
    },
    {
     "cell_type": "code",
     "collapsed": false,
     "input": "bls.score(test_feat,test_target)",
     "language": "python",
     "metadata": {},
     "outputs": [
      {
       "metadata": {},
       "output_type": "pyout",
       "prompt_number": 82,
       "text": "-0.0022520773431067287"
      }
     ],
     "prompt_number": 82
    },
    {
     "cell_type": "code",
     "collapsed": false,
     "input": "bls.predict(test_feat[2]),test_target[2]",
     "language": "python",
     "metadata": {},
     "outputs": [
      {
       "metadata": {},
       "output_type": "pyout",
       "prompt_number": 85,
       "text": "(9.9060294400554643, 47.130000000000003)"
      }
     ],
     "prompt_number": 85
    },
    {
     "cell_type": "code",
     "collapsed": false,
     "input": "sgd = linear_model.SGDRegressor()\nsgd.fit(train_feat,train_target)",
     "language": "python",
     "metadata": {},
     "outputs": [
      {
       "metadata": {},
       "output_type": "pyout",
       "prompt_number": 93,
       "text": "SGDRegressor(alpha=0.0001, epsilon=0.1, eta0=0.01, fit_intercept=True,\n       l1_ratio=0.15, learning_rate='invscaling', loss='squared_loss',\n       n_iter=5, penalty='l2', power_t=0.25, random_state=None, rho=None,\n       shuffle=False, verbose=0, warm_start=False)"
      }
     ],
     "prompt_number": 93
    },
    {
     "cell_type": "code",
     "collapsed": false,
     "input": "sgd.score(test_feat,test_target)",
     "language": "python",
     "metadata": {},
     "outputs": [
      {
       "metadata": {},
       "output_type": "pyout",
       "prompt_number": 94,
       "text": "-0.016093040943324866"
      }
     ],
     "prompt_number": 94
    },
    {
     "cell_type": "code",
     "collapsed": false,
     "input": "# Plot true weights, estimated weights and histogram of the weights\nplt.figure(figsize=(6, 5))\nplt.title(\"Weights of the model\")\nplt.plot(bls.coef_, 'b-', label=\"Bayesian Ridge estimate\")\nplt.plot(regr.coef_, 'r--', label=\"OLS estimate\")\nplt.plot(sgd.coef_, 'g-', label=\"SGD estimate\")\nplt.xlabel(\"Features\")\nplt.ylabel(\"Values of the weights\")\nplt.legend(loc=\"best\", prop=dict(size=12))\n'''\nplt.figure(figsize=(6, 5))\nplt.title(\"Histogram of the weights\")\nplt.hist(bls.coef_, bins=6, log=True)\nplt.plot(bls.coef_[relevant_features], 5 * np.ones(len(relevant_features)),\n         'ro', label=\"Relevant features\")\nplt.ylabel(\"Features\")\nplt.xlabel(\"Values of the weights\")\nplt.legend(loc=\"lower left\")\n\nplt.figure(figsize=(6, 5))\nplt.title(\"Marginal log-likelihood\")\nplt.plot(clf.scores_)\nplt.ylabel(\"Score\")\nplt.xlabel(\"Iterations\")'''\nplt.show()",
     "language": "python",
     "metadata": {},
     "outputs": [],
     "prompt_number": 104
    },
    {
     "cell_type": "code",
     "collapsed": false,
     "input": "###############################################################################\n# Compute paths\n\nn_alphas = 200\nalphas = np.logspace(-10, -2, n_alphas)\nclf = linear_model.Ridge(fit_intercept=False)\n\ncoefs = []\nfor a in alphas:\n    clf.set_params(alpha=a)\n    clf.fit(test_feat, test_target)\n    coefs.append(clf.coef_)\n\n###############################################################################\n# Display results\n\nax = plt.gca()\nax.set_color_cycle(['b', 'r', 'g', 'c', 'k', 'y', 'm'])\n\nax.plot(alphas, coefs)\nax.set_xscale('log')\nax.set_xlim(ax.get_xlim()[::-1])  # reverse axis\nplt.xlabel('alpha')\nplt.ylabel('weights')\nplt.title('Ridge coefficients as a function of the regularization')\nplt.axis('tight')\nplt.show()",
     "language": "python",
     "metadata": {},
     "outputs": [],
     "prompt_number": 106
    },
    {
     "cell_type": "code",
     "collapsed": false,
     "input": "ridgecv = linear_model.RidgeCV(alphas=[0.1, 1.0, 10.0])\nridgecv.fit(train_feat,train_target)\nridgecv.score(test_feat,test_target)",
     "language": "python",
     "metadata": {},
     "outputs": [
      {
       "metadata": {},
       "output_type": "pyout",
       "prompt_number": 108,
       "text": "0.60270351867145489"
      }
     ],
     "prompt_number": 108
    },
    {
     "cell_type": "code",
     "collapsed": false,
     "input": "ridgecv.alpha_",
     "language": "python",
     "metadata": {},
     "outputs": [
      {
       "metadata": {},
       "output_type": "pyout",
       "prompt_number": 109,
       "text": "0.10000000000000001"
      }
     ],
     "prompt_number": 109
    },
    {
     "cell_type": "code",
     "collapsed": false,
     "input": "",
     "language": "python",
     "metadata": {},
     "outputs": []
    }
   ],
   "metadata": {}
  }
 ]
}